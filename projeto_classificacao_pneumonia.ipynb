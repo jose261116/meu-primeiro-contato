{
  "nbformat": 4,
  "nbformat_minor": 0,
  "metadata": {
    "colab": {
      "provenance": [],
      "include_colab_link": true
    },
    "kernelspec": {
      "name": "python3",
      "display_name": "Python 3"
    },
    "language_info": {
      "name": "python"
    },
    "accelerator": "GPU",
    "gpuClass": "standard"
  },
  "cells": [
    {
      "cell_type": "markdown",
      "metadata": {
        "id": "view-in-github",
        "colab_type": "text"
      },
      "source": [
        "<a href=\"https://colab.research.google.com/github/jose261116/meu-primeiro-contato/blob/main/projeto_classificacao_pneumonia.ipynb\" target=\"_parent\"><img src=\"https://colab.research.google.com/assets/colab-badge.svg\" alt=\"Open In Colab\"/></a>"
      ]
    },
    {
      "cell_type": "code",
      "execution_count": 39,
      "metadata": {
        "id": "91gD18W0Hf7R"
      },
      "outputs": [],
      "source": [
        "from google.colab import drive"
      ]
    },
    {
      "cell_type": "code",
      "source": [
        "drive.mount('/content/drive')"
      ],
      "metadata": {
        "id": "UQlvRNcTIc1m",
        "outputId": "1e27cf32-552c-478c-d2e8-cc741fb94cab",
        "colab": {
          "base_uri": "https://localhost:8080/"
        }
      },
      "execution_count": 40,
      "outputs": [
        {
          "output_type": "stream",
          "name": "stdout",
          "text": [
            "Drive already mounted at /content/drive; to attempt to forcibly remount, call drive.mount(\"/content/drive\", force_remount=True).\n"
          ]
        }
      ]
    },
    {
      "cell_type": "markdown",
      "source": [
        "### Em 'local_data' deverá passar o caminho do dataset em zip"
      ],
      "metadata": {
        "id": "etDgap7ajOls"
      }
    },
    {
      "cell_type": "code",
      "source": [
        "#!unzip '/content/drive/MyDrive/chest_xray'"
      ],
      "metadata": {
        "id": "DFSKsoPiHyDA"
      },
      "execution_count": 41,
      "outputs": []
    },
    {
      "cell_type": "code",
      "source": [
        "from keras.models import Sequential\n",
        "from keras.layers import Conv2D, MaxPooling2D, Flatten, Dense, Dropout\n",
        "from tensorflow.keras.layers import BatchNormalization\n",
        "from keras.preprocessing.image import ImageDataGenerator\n",
        "import keras.utils as image\n",
        "from keras.utils import load_img, img_to_array\n",
        "import numpy as np\n",
        "from keras.preprocessing import image"
      ],
      "metadata": {
        "id": "xvUMl9vyI4Kl"
      },
      "execution_count": 42,
      "outputs": []
    },
    {
      "cell_type": "code",
      "source": [
        "#Definição da rede neural\n",
        "classificador = Sequential()\n",
        "\n",
        "#Criando a camada de convolucao de 32 filtros, e dimensoes 3x3, altura e largura da imagem\n",
        "classificador.add(Conv2D(32, (3,3), input_shape = (64, 64, 3), activation = 'relu'))\n",
        "\n",
        "#Acelera o processamento com os dados em escala entre 0 e 1\n",
        "classificador.add(BatchNormalization())\n",
        "\n",
        "#Uma matrix de 4 pixels\n",
        "classificador.add(MaxPooling2D(pool_size = (2,2)))"
      ],
      "metadata": {
        "id": "wXpqK9K2JFth"
      },
      "execution_count": 43,
      "outputs": []
    },
    {
      "cell_type": "code",
      "source": [
        "\n",
        "\n",
        "\n",
        "classificador.add(Conv2D(32, (3,3), input_shape = (64, 64, 3), activation = 'relu'))\n",
        "classificador.add(BatchNormalization())\n",
        "classificador.add(MaxPooling2D(pool_size = (2,2)))"
      ],
      "metadata": {
        "id": "oupdvc_BJHn4"
      },
      "execution_count": 44,
      "outputs": []
    },
    {
      "cell_type": "code",
      "source": [
        "# Transforma a matrix em um vetor\n",
        "classificador.add(Flatten())\n",
        "\n",
        "# Rede neural densa\n",
        "classificador.add(Dense(units = 128, activation = 'relu'))\n",
        "classificador.add(Dropout(0.2))\n",
        "\n",
        "classificador.add(Dense(units = 128, activation = 'relu'))\n",
        "\n",
        "# Zerando 20% das entradas\n",
        "classificador.add(Dropout(0.2))\n",
        "classificador.add(Dense(units = 128, activation = 'relu'))\n",
        "classificador.add(Dropout(0.2))\n",
        "\n",
        "# Camada de saida com classificação binaria\n",
        "classificador.add(Dense(units = 1, activation = 'sigmoid'))"
      ],
      "metadata": {
        "id": "iB1073iAJIrI"
      },
      "execution_count": 45,
      "outputs": []
    },
    {
      "cell_type": "code",
      "source": [
        "classificador.compile (optimizer = 'adam', loss = 'binary_crossentropy',\n",
        "                      metrics = ['accuracy'])"
      ],
      "metadata": {
        "id": "IP6Rpj-sJK1p"
      },
      "execution_count": 46,
      "outputs": []
    },
    {
      "cell_type": "code",
      "source": [
        "from google.colab import drive\n",
        "drive.mount('/content/drive')"
      ],
      "metadata": {
        "id": "LrnQbLPUQtrA",
        "outputId": "f8d5f8cd-ce09-46d0-ef99-de5e4e3f42fa",
        "colab": {
          "base_uri": "https://localhost:8080/"
        }
      },
      "execution_count": 47,
      "outputs": [
        {
          "output_type": "stream",
          "name": "stdout",
          "text": [
            "Drive already mounted at /content/drive; to attempt to forcibly remount, call drive.mount(\"/content/drive\", force_remount=True).\n"
          ]
        }
      ]
    },
    {
      "cell_type": "code",
      "source": [
        "# Gerando imagens aleatorias aproveitando os dados existentes\n",
        "gerador_treinamento = ImageDataGenerator(rescale = 1./255,\n",
        "                                         rotation_range = 7,\n",
        "                                         horizontal_flip = True,\n",
        "                                         shear_range = 0.2,\n",
        "                                         height_shift_range = 0.07,\n",
        "                                         zoom_range = 0.2)"
      ],
      "metadata": {
        "id": "NURXRbkFJMrT"
      },
      "execution_count": 48,
      "outputs": []
    },
    {
      "cell_type": "markdown",
      "source": [
        "### Em 'pasta_de_treino' e 'pasta_de_teste' deverá passar o caminho da pasta de treino e de teste da sua pasta contendo o dataset."
      ],
      "metadata": {
        "id": "z0r4q3OLjiAb"
      }
    },
    {
      "cell_type": "code",
      "source": [
        "gerador_teste = ImageDataGenerator(rescale = 1./255)\n",
        "\n",
        "# Definindo a base de dados\n",
        "base_treinamento = gerador_treinamento.flow_from_directory('/content/drive/MyDrive/chest_xray/chest_xray/train',\n",
        "                                                           target_size = (64, 64),\n",
        "                                                           batch_size = 32,\n",
        "                                                           class_mode = 'binary')\n",
        "\n",
        "\n",
        "base_teste = gerador_teste.flow_from_directory('/content/drive/MyDrive/chest_xray/chest_xray/test',\n",
        "                                               target_size = (64, 64),\n",
        "                                               batch_size = 32,\n",
        "                                               class_mode = 'binary')"
      ],
      "metadata": {
        "id": "1SqjgEh8JqC7",
        "outputId": "f248d478-605f-4701-e1d2-af38fb14f7cc",
        "colab": {
          "base_uri": "https://localhost:8080/"
        }
      },
      "execution_count": 50,
      "outputs": [
        {
          "output_type": "stream",
          "name": "stdout",
          "text": [
            "Found 5216 images belonging to 2 classes.\n",
            "Found 624 images belonging to 2 classes.\n"
          ]
        }
      ]
    },
    {
      "cell_type": "markdown",
      "source": [
        "### Em defina o passo para o treino. Recomendável setar o tamanho do dataset de treino e para validation_teps o tamanho do dataset de teste"
      ],
      "metadata": {
        "id": "nOyrNJKBj8Qw"
      }
    },
    {
      "cell_type": "code",
      "source": [
        "\n",
        "\n",
        "\n",
        "\n",
        "\n",
        "\n",
        "\n",
        "\n",
        "\n",
        "\n",
        "\n",
        "\n",
        "\n",
        "\n",
        "\n",
        "\n",
        "\n",
        "\n",
        "\n",
        "\n",
        "\n",
        "\n",
        "\n",
        "\n",
        "\n",
        "\n",
        "\n",
        "\n",
        "\n",
        "\n",
        "\n",
        "\n",
        "\n",
        "\n",
        "\n",
        "\n",
        "\n",
        "\n",
        "\n",
        "\n",
        "\n",
        "\n",
        "\n",
        "\n",
        "\n",
        "\n",
        "\n",
        "\n",
        "\n",
        "# Treinando a rede neural\n",
        "classificador.fit_generator(base_treinamento, steps_per_epoch = 4000 / 32,\n",
        "                            epochs = 50, validation_data = base_teste,\n",
        "                            validation_steps = 1000 / 32)"
      ],
      "metadata": {
        "id": "iNje2TAyJtBq",
        "outputId": "7b89db4c-d319-442c-b41f-5bf0d4fe0f35",
        "colab": {
          "base_uri": "https://localhost:8080/"
        }
      },
      "execution_count": 51,
      "outputs": [
        {
          "output_type": "stream",
          "name": "stderr",
          "text": [
            "<ipython-input-51-9ba43c5a2fc2>:2: UserWarning: `Model.fit_generator` is deprecated and will be removed in a future version. Please use `Model.fit`, which supports generators.\n",
            "  classificador.fit_generator(base_treinamento, steps_per_epoch = 4000 / 32,\n"
          ]
        },
        {
          "output_type": "stream",
          "name": "stdout",
          "text": [
            "Epoch 1/50\n",
            "125/125 [==============================] - ETA: 0s - loss: 0.3209 - accuracy: 0.8677"
          ]
        },
        {
          "output_type": "stream",
          "name": "stderr",
          "text": [
            "WARNING:tensorflow:Your input ran out of data; interrupting training. Make sure that your dataset or generator can generate at least `steps_per_epoch * epochs` batches (in this case, 31.25 batches). You may need to use the repeat() function when building your dataset.\n"
          ]
        },
        {
          "output_type": "stream",
          "name": "stdout",
          "text": [
            "\b\b\b\b\b\b\b\b\b\b\b\b\b\b\b\b\b\b\b\b\b\b\b\b\b\b\b\b\b\b\b\b\b\b\b\b\b\b\b\b\b\b\b\b\b\b\b\b\b\b\b\b\b\b\b\b\b\b\b\b\b\b\b\b\b\b\b\b\b\b\b\b\b\b\b\b\b\b\b\b\b\b\b\b\r125/125 [==============================] - 793s 6s/step - loss: 0.3209 - accuracy: 0.8677 - val_loss: 1.4863 - val_accuracy: 0.6250\n",
            "Epoch 2/50\n",
            "125/125 [==============================] - 189s 2s/step - loss: 0.2472 - accuracy: 0.8985\n",
            "Epoch 3/50\n",
            "125/125 [==============================] - 88s 707ms/step - loss: 0.1886 - accuracy: 0.9260\n",
            "Epoch 4/50\n",
            "125/125 [==============================] - 67s 536ms/step - loss: 0.2058 - accuracy: 0.9165\n",
            "Epoch 5/50\n",
            "125/125 [==============================] - 60s 483ms/step - loss: 0.1793 - accuracy: 0.9342\n",
            "Epoch 6/50\n",
            "125/125 [==============================] - 59s 475ms/step - loss: 0.1730 - accuracy: 0.9340\n",
            "Epoch 7/50\n",
            "125/125 [==============================] - 58s 467ms/step - loss: 0.1750 - accuracy: 0.9317\n",
            "Epoch 8/50\n",
            "125/125 [==============================] - 58s 467ms/step - loss: 0.1545 - accuracy: 0.9427\n",
            "Epoch 9/50\n",
            "125/125 [==============================] - 59s 472ms/step - loss: 0.1609 - accuracy: 0.9377\n",
            "Epoch 10/50\n",
            "125/125 [==============================] - 59s 473ms/step - loss: 0.1629 - accuracy: 0.9410\n",
            "Epoch 11/50\n",
            "125/125 [==============================] - 59s 473ms/step - loss: 0.1616 - accuracy: 0.9417\n",
            "Epoch 12/50\n",
            "125/125 [==============================] - 59s 471ms/step - loss: 0.1445 - accuracy: 0.9425\n",
            "Epoch 13/50\n",
            "125/125 [==============================] - 59s 474ms/step - loss: 0.1340 - accuracy: 0.9507\n",
            "Epoch 14/50\n",
            "125/125 [==============================] - 58s 465ms/step - loss: 0.1358 - accuracy: 0.9520\n",
            "Epoch 15/50\n",
            "125/125 [==============================] - 58s 467ms/step - loss: 0.1450 - accuracy: 0.9467\n",
            "Epoch 16/50\n",
            "125/125 [==============================] - 59s 474ms/step - loss: 0.1328 - accuracy: 0.9550\n",
            "Epoch 17/50\n",
            "125/125 [==============================] - 59s 473ms/step - loss: 0.1469 - accuracy: 0.9413\n",
            "Epoch 18/50\n",
            "125/125 [==============================] - 59s 476ms/step - loss: 0.1383 - accuracy: 0.9507\n",
            "Epoch 19/50\n",
            "125/125 [==============================] - 59s 466ms/step - loss: 0.1272 - accuracy: 0.9550\n",
            "Epoch 20/50\n",
            "125/125 [==============================] - 58s 467ms/step - loss: 0.1319 - accuracy: 0.9500\n",
            "Epoch 21/50\n",
            "125/125 [==============================] - 58s 465ms/step - loss: 0.1327 - accuracy: 0.9528\n",
            "Epoch 22/50\n",
            "125/125 [==============================] - 58s 462ms/step - loss: 0.1293 - accuracy: 0.9523\n",
            "Epoch 23/50\n",
            "125/125 [==============================] - 60s 480ms/step - loss: 0.1230 - accuracy: 0.9555\n",
            "Epoch 24/50\n",
            "125/125 [==============================] - 59s 470ms/step - loss: 0.1179 - accuracy: 0.9538\n",
            "Epoch 25/50\n",
            "125/125 [==============================] - 58s 465ms/step - loss: 0.1138 - accuracy: 0.9607\n",
            "Epoch 26/50\n",
            "125/125 [==============================] - 59s 471ms/step - loss: 0.1296 - accuracy: 0.9532\n",
            "Epoch 27/50\n",
            "125/125 [==============================] - 58s 465ms/step - loss: 0.1023 - accuracy: 0.9643\n",
            "Epoch 28/50\n",
            "125/125 [==============================] - 58s 466ms/step - loss: 0.1196 - accuracy: 0.9535\n",
            "Epoch 29/50\n",
            "125/125 [==============================] - 58s 466ms/step - loss: 0.1204 - accuracy: 0.9603\n",
            "Epoch 30/50\n",
            "125/125 [==============================] - 58s 464ms/step - loss: 0.1122 - accuracy: 0.9567\n",
            "Epoch 31/50\n",
            "125/125 [==============================] - 59s 473ms/step - loss: 0.1217 - accuracy: 0.9532\n",
            "Epoch 32/50\n",
            "125/125 [==============================] - 58s 461ms/step - loss: 0.1013 - accuracy: 0.9653\n",
            "Epoch 33/50\n",
            "125/125 [==============================] - 59s 470ms/step - loss: 0.1094 - accuracy: 0.9613\n",
            "Epoch 34/50\n",
            "125/125 [==============================] - 57s 452ms/step - loss: 0.1095 - accuracy: 0.9607\n",
            "Epoch 35/50\n",
            "125/125 [==============================] - 57s 459ms/step - loss: 0.1050 - accuracy: 0.9595\n",
            "Epoch 36/50\n",
            "125/125 [==============================] - 59s 469ms/step - loss: 0.1098 - accuracy: 0.9628\n",
            "Epoch 37/50\n",
            "125/125 [==============================] - 58s 467ms/step - loss: 0.1055 - accuracy: 0.9578\n",
            "Epoch 38/50\n",
            "125/125 [==============================] - 58s 467ms/step - loss: 0.1101 - accuracy: 0.9588\n",
            "Epoch 39/50\n",
            "125/125 [==============================] - 59s 468ms/step - loss: 0.0993 - accuracy: 0.9635\n",
            "Epoch 40/50\n",
            "125/125 [==============================] - 58s 466ms/step - loss: 0.1137 - accuracy: 0.9597\n",
            "Epoch 41/50\n",
            "125/125 [==============================] - 57s 456ms/step - loss: 0.0962 - accuracy: 0.9622\n",
            "Epoch 42/50\n",
            "125/125 [==============================] - 58s 461ms/step - loss: 0.0924 - accuracy: 0.9665\n",
            "Epoch 43/50\n",
            "125/125 [==============================] - 57s 459ms/step - loss: 0.1038 - accuracy: 0.9603\n",
            "Epoch 44/50\n",
            "125/125 [==============================] - 56s 447ms/step - loss: 0.1052 - accuracy: 0.9605\n",
            "Epoch 45/50\n",
            "125/125 [==============================] - 57s 457ms/step - loss: 0.1029 - accuracy: 0.9605\n",
            "Epoch 46/50\n",
            "125/125 [==============================] - 56s 450ms/step - loss: 0.0967 - accuracy: 0.9638\n",
            "Epoch 47/50\n",
            "125/125 [==============================] - 58s 460ms/step - loss: 0.0987 - accuracy: 0.9653\n",
            "Epoch 48/50\n",
            "125/125 [==============================] - 57s 455ms/step - loss: 0.0959 - accuracy: 0.9622\n",
            "Epoch 49/50\n",
            "125/125 [==============================] - 57s 455ms/step - loss: 0.1014 - accuracy: 0.9665\n",
            "Epoch 50/50\n",
            "125/125 [==============================] - 56s 451ms/step - loss: 0.0985 - accuracy: 0.9665\n"
          ]
        },
        {
          "output_type": "execute_result",
          "data": {
            "text/plain": [
              "<keras.callbacks.History at 0x7ff7406ddff0>"
            ]
          },
          "metadata": {},
          "execution_count": 51
        }
      ]
    },
    {
      "cell_type": "code",
      "source": [
        "# Carregando uma imagem para classificação\n",
        "imagem_teste = load_img('/content/drive/MyDrive/chest_xray/train/NORMAL/IM-0131-0001.jpeg',\n",
        "                              target_size = (64,64))\n",
        "\n",
        "imagem_teste = img_to_array(imagem_teste)\n",
        "imagem_teste /= 255\n",
        "imagem_teste = np.expand_dims(imagem_teste, axis = 0)\n",
        "\n",
        "#Realizando a previsão\n",
        "previsao = classificador.predict(imagem_teste)\n",
        "base_treinamento.class_indices\n",
        "previsao"
      ],
      "metadata": {
        "id": "Z0gmjG6MJwO_",
        "outputId": "bcd2da13-2572-435b-9c24-18023c54e07f",
        "colab": {
          "base_uri": "https://localhost:8080/"
        }
      },
      "execution_count": 53,
      "outputs": [
        {
          "output_type": "stream",
          "name": "stdout",
          "text": [
            "1/1 [==============================] - 0s 263ms/step\n"
          ]
        },
        {
          "output_type": "execute_result",
          "data": {
            "text/plain": [
              "array([[0.05601394]], dtype=float32)"
            ]
          },
          "metadata": {},
          "execution_count": 53
        }
      ]
    },
    {
      "cell_type": "code",
      "source": [
        "previsao, base_treinamento.class_indices"
      ],
      "metadata": {
        "id": "fplbU-m0WYCE",
        "outputId": "a80f2a39-4258-4359-e264-8d2f2c6a2d56",
        "colab": {
          "base_uri": "https://localhost:8080/"
        }
      },
      "execution_count": 54,
      "outputs": [
        {
          "output_type": "execute_result",
          "data": {
            "text/plain": [
              "(array([[0.05601394]], dtype=float32), {'NORMAL': 0, 'PNEUMONIA': 1})"
            ]
          },
          "metadata": {},
          "execution_count": 54
        }
      ]
    },
    {
      "cell_type": "code",
      "source": [
        "classificador.save('pneumonia.h5')"
      ],
      "metadata": {
        "id": "YnULWckPJ-cl"
      },
      "execution_count": 55,
      "outputs": []
    },
    {
      "cell_type": "code",
      "source": [],
      "metadata": {
        "id": "EC9IoZ7AL0mv"
      },
      "execution_count": null,
      "outputs": []
    }
  ]
}